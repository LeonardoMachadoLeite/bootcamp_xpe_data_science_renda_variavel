{
 "cells": [
  {
   "attachments": {},
   "cell_type": "markdown",
   "id": "2f80e7e9",
   "metadata": {},
   "source": [
    "## Aula 5.2.Coleta de dados fundamentalistas"
   ]
  },
  {
   "attachments": {},
   "cell_type": "markdown",
   "id": "01b59e2d",
   "metadata": {},
   "source": [
    "### Exemplo 1 - Coletando a lista de companhias com registro na CVM"
   ]
  },
  {
   "attachments": {},
   "cell_type": "markdown",
   "id": "36c93c40",
   "metadata": {},
   "source": [
    "Acessar o site https://www.rad.cvm.gov.br/ENET/frmConsultaExternaCVM.aspx"
   ]
  },
  {
   "cell_type": "code",
   "execution_count": 1,
   "id": "8482e7b8",
   "metadata": {},
   "outputs": [],
   "source": [
    "import requests_html\n",
    "import re\n",
    "import pandas as pd"
   ]
  },
  {
   "cell_type": "code",
   "execution_count": 2,
   "id": "c5a5bfda",
   "metadata": {},
   "outputs": [],
   "source": [
    "import os\n",
    "import sys\n",
    "from dotenv import load_dotenv, find_dotenv\n",
    "\n",
    "load_dotenv(find_dotenv())\n",
    "CLASSES_DIR = os.getenv(\"CLASSES_DIR\")\n",
    "\n",
    "sys.path.append(CLASSES_DIR)"
   ]
  },
  {
   "cell_type": "code",
   "execution_count": 3,
   "id": "5259ca29",
   "metadata": {},
   "outputs": [
    {
     "data": {
      "text/html": [
       "<div>\n",
       "<style scoped>\n",
       "    .dataframe tbody tr th:only-of-type {\n",
       "        vertical-align: middle;\n",
       "    }\n",
       "\n",
       "    .dataframe tbody tr th {\n",
       "        vertical-align: top;\n",
       "    }\n",
       "\n",
       "    .dataframe thead th {\n",
       "        text-align: right;\n",
       "    }\n",
       "</style>\n",
       "<table border=\"1\" class=\"dataframe\">\n",
       "  <thead>\n",
       "    <tr style=\"text-align: right;\">\n",
       "      <th></th>\n",
       "      <th>key</th>\n",
       "      <th>value</th>\n",
       "      <th>status</th>\n",
       "    </tr>\n",
       "  </thead>\n",
       "  <tbody>\n",
       "    <tr>\n",
       "      <th>0</th>\n",
       "      <td>018554</td>\n",
       "      <td>PAN FINANCEIRA S.A. - CRÉDITO, FINANCIAMENTO ...</td>\n",
       "      <td>REGISTRO ATIVO</td>\n",
       "    </tr>\n",
       "    <tr>\n",
       "      <th>1</th>\n",
       "      <td>252224</td>\n",
       "      <td>2W ECOBANK S.A.</td>\n",
       "      <td>NaN</td>\n",
       "    </tr>\n",
       "    <tr>\n",
       "      <th>2</th>\n",
       "      <td>025224</td>\n",
       "      <td>2W ECOBANK S.A.</td>\n",
       "      <td>REGISTRO ATIVO</td>\n",
       "    </tr>\n",
       "    <tr>\n",
       "      <th>3</th>\n",
       "      <td>917581</td>\n",
       "      <td>2W ENERGIA S.A.</td>\n",
       "      <td>REGISTRO ATIVO</td>\n",
       "    </tr>\n",
       "    <tr>\n",
       "      <th>4</th>\n",
       "      <td>021954</td>\n",
       "      <td>3A COMPANHIA SECURITIZADORA</td>\n",
       "      <td>REGISTRO CANCELADO</td>\n",
       "    </tr>\n",
       "  </tbody>\n",
       "</table>\n",
       "</div>"
      ],
      "text/plain": [
       "      key                                              value   \n",
       "0  018554   PAN FINANCEIRA S.A. - CRÉDITO, FINANCIAMENTO ...  \\\n",
       "1  252224                                    2W ECOBANK S.A.   \n",
       "2  025224                                    2W ECOBANK S.A.   \n",
       "3  917581                                    2W ENERGIA S.A.   \n",
       "4  021954                        3A COMPANHIA SECURITIZADORA   \n",
       "\n",
       "               status  \n",
       "0      REGISTRO ATIVO  \n",
       "1                 NaN  \n",
       "2      REGISTRO ATIVO  \n",
       "3      REGISTRO ATIVO  \n",
       "4  REGISTRO CANCELADO  "
      ]
     },
     "execution_count": 3,
     "metadata": {},
     "output_type": "execute_result"
    }
   ],
   "source": [
    "from listar_empresas_registradas_cvm import EmpresasRegistradasCVM\n",
    "\n",
    "reg_emp = EmpresasRegistradasCVM()\n",
    "reg_emp.empresas.head()"
   ]
  },
  {
   "cell_type": "code",
   "execution_count": 7,
   "id": "0adf26ef",
   "metadata": {},
   "outputs": [
    {
     "data": {
      "text/html": [
       "<div>\n",
       "<style scoped>\n",
       "    .dataframe tbody tr th:only-of-type {\n",
       "        vertical-align: middle;\n",
       "    }\n",
       "\n",
       "    .dataframe tbody tr th {\n",
       "        vertical-align: top;\n",
       "    }\n",
       "\n",
       "    .dataframe thead th {\n",
       "        text-align: right;\n",
       "    }\n",
       "</style>\n",
       "<table border=\"1\" class=\"dataframe\">\n",
       "  <thead>\n",
       "    <tr style=\"text-align: right;\">\n",
       "      <th></th>\n",
       "      <th>Cod_CVM</th>\n",
       "      <th>Sequencia</th>\n",
       "      <th>Versao</th>\n",
       "      <th>Protocolo</th>\n",
       "      <th>Tipo</th>\n",
       "    </tr>\n",
       "  </thead>\n",
       "  <tbody>\n",
       "    <tr>\n",
       "      <th>0</th>\n",
       "      <td>025461</td>\n",
       "      <td>121762</td>\n",
       "      <td>1</td>\n",
       "      <td>025461ITR300920220100121762-72</td>\n",
       "      <td>ITR</td>\n",
       "    </tr>\n",
       "    <tr>\n",
       "      <th>1</th>\n",
       "      <td>021610</td>\n",
       "      <td>121714</td>\n",
       "      <td>1</td>\n",
       "      <td>021610ITR300920220100121714-75</td>\n",
       "      <td>ITR</td>\n",
       "    </tr>\n",
       "    <tr>\n",
       "      <th>2</th>\n",
       "      <td>025461</td>\n",
       "      <td>119796</td>\n",
       "      <td>1</td>\n",
       "      <td>025461ITR300620220100119796-76</td>\n",
       "      <td>ITR</td>\n",
       "    </tr>\n",
       "    <tr>\n",
       "      <th>3</th>\n",
       "      <td>021610</td>\n",
       "      <td>119633</td>\n",
       "      <td>1</td>\n",
       "      <td>021610ITR300620220100119633-78</td>\n",
       "      <td>ITR</td>\n",
       "    </tr>\n",
       "    <tr>\n",
       "      <th>4</th>\n",
       "      <td>021610</td>\n",
       "      <td>114979</td>\n",
       "      <td>1</td>\n",
       "      <td>021610ITR310320220100114979-74</td>\n",
       "      <td>ITR</td>\n",
       "    </tr>\n",
       "  </tbody>\n",
       "</table>\n",
       "</div>"
      ],
      "text/plain": [
       "  Cod_CVM Sequencia Versao                       Protocolo Tipo\n",
       "0  025461    121762      1  025461ITR300920220100121762-72  ITR\n",
       "1  021610    121714      1  021610ITR300920220100121714-75  ITR\n",
       "2  025461    119796      1  025461ITR300620220100119796-76  ITR\n",
       "3  021610    119633      1  021610ITR300620220100119633-78  ITR\n",
       "4  021610    114979      1  021610ITR310320220100114979-74  ITR"
      ]
     },
     "execution_count": 7,
     "metadata": {},
     "output_type": "execute_result"
    }
   ],
   "source": [
    "from listar_documentos_cvm import ListarDocumentosCVM\n",
    "\n",
    "Docs_CVM = ListarDocumentosCVM(['021610','025461'], '01/01/2021', '01/01/2023')\n",
    "\n",
    "Docs_CVM.obter_documentos()\n",
    "doc_cvm_res = Docs_CVM.cvt_response_to_df()\n",
    "\n",
    "doc_cvm_res.head()"
   ]
  },
  {
   "cell_type": "code",
   "execution_count": 9,
   "id": "48066987",
   "metadata": {},
   "outputs": [
    {
     "data": {
      "text/plain": [
       "[('021610', 103505, 1, '021610ITR310320210100103505-72', 'ITR'),\n",
       " ('025461', 103710, 1, '025461ITR310320210100103710-75', 'ITR'),\n",
       " ('025461', 103735, 2, '025461ITR310320210200103735-68', 'ITR'),\n",
       " ('025461', 104287, 3, '025461ITR310320210300104287-72', 'ITR'),\n",
       " ('025461', 107406, 1, '025461ITR300620210100107406-78', 'ITR'),\n",
       " ('025461', 107427, 2, '025461ITR300620210200107427-72', 'ITR'),\n",
       " ('025461', 107438, 3, '025461ITR300620210300107438-76', 'ITR'),\n",
       " ('021610', 107516, 1, '021610ITR300620210100107516-76', 'ITR'),\n",
       " ('025461', 107530, 4, '025461ITR300620210400107530-79', 'ITR'),\n",
       " ('025461', 109616, 1, '025461ITR300920210100109616-84', 'ITR'),\n",
       " ('025461', 109702, 2, '025461ITR300920210200109702-71', 'ITR'),\n",
       " ('021610', 109787, 1, '021610ITR300920210100109787-89', 'ITR'),\n",
       " ('025461', 114673, 1, '025461ITR310320220100114673-74', 'ITR'),\n",
       " ('021610', 114979, 1, '021610ITR310320220100114979-74', 'ITR'),\n",
       " ('021610', 119633, 1, '021610ITR300620220100119633-78', 'ITR'),\n",
       " ('025461', 119796, 1, '025461ITR300620220100119796-76', 'ITR'),\n",
       " ('021610', 121714, 1, '021610ITR300920220100121714-75', 'ITR'),\n",
       " ('025461', 121762, 1, '025461ITR300920220100121762-72', 'ITR')]"
      ]
     },
     "execution_count": 9,
     "metadata": {},
     "output_type": "execute_result"
    }
   ],
   "source": [
    "from database.sqlite_db import DatabaseConnectionFactory\n",
    "\n",
    "conn = DatabaseConnectionFactory.CreateDbConnection()\n",
    "c = conn.cursor()\n",
    "\n",
    "# c.execute(\"delete from documentos_cvm\")\n",
    "# conn.commit()\n",
    "\n",
    "for row, doc in doc_cvm_res.iterrows():\n",
    "    sql = f\"REPLACE INTO documentos_cvm VALUES ('{doc['Cod_CVM']}', {doc['Sequencia']}, {doc['Versao']}, '{doc['Protocolo']}', '{doc['Tipo']}')\"\n",
    "    c.execute(sql)\n",
    "\n",
    "conn.commit()\n",
    "\n",
    "result = c.execute(\"select * from documentos_cvm\").fetchall()\n",
    "conn.close()\n",
    "\n",
    "result"
   ]
  },
  {
   "attachments": {},
   "cell_type": "markdown",
   "id": "adcafcfa",
   "metadata": {},
   "source": [
    "### Exemplo 2 - Coleta de dados da CVM usando requests-html"
   ]
  },
  {
   "attachments": {},
   "cell_type": "markdown",
   "id": "78e0ac88",
   "metadata": {},
   "source": [
    "No exemplo a seguir vamos primeiramente entender como o site de documentos da CVM funciona."
   ]
  },
  {
   "attachments": {},
   "cell_type": "markdown",
   "id": "1a31e486",
   "metadata": {},
   "source": [
    "Vamos inicialmente inspecionar o site https://www.rad.cvm.gov.br/ENET/frmConsultaExternaCVM.aspx"
   ]
  },
  {
   "cell_type": "code",
   "execution_count": 2,
   "id": "3cb7961c",
   "metadata": {},
   "outputs": [],
   "source": [
    "df_empresas = pd.read_csv('registros_empresas_cvm.csv', sep=';')"
   ]
  },
  {
   "cell_type": "code",
   "execution_count": 3,
   "id": "a7bd8eef",
   "metadata": {},
   "outputs": [],
   "source": [
    "from download_doc_xml_rad_cvm import DownloadDocXmlRadCvm\n",
    "from database.Documento_CVM import Documento_CVM\n",
    "\n",
    "teste_doc = Documento_CVM(('021610', 103505, 1, '021610ITR310320210100103505-72', 'ITR'))\n",
    "down_doc = DownloadDocXmlRadCvm(teste_doc)\n",
    "down_doc.download_xml()\n",
    "down_doc.open_xml()"
   ]
  },
  {
   "cell_type": "code",
   "execution_count": null,
   "id": "3a33b450",
   "metadata": {},
   "outputs": [],
   "source": [
    "my_dict = down_doc.dados"
   ]
  },
  {
   "cell_type": "code",
   "execution_count": null,
   "id": "325843e2",
   "metadata": {
    "scrolled": true
   },
   "outputs": [],
   "source": [
    "my_dict"
   ]
  },
  {
   "cell_type": "code",
   "execution_count": null,
   "id": "94786841",
   "metadata": {},
   "outputs": [],
   "source": [
    "my_dict['XmlInformacoesTrimestraisFinanceiras']['DadosITR']['Formulario'].keys()"
   ]
  },
  {
   "cell_type": "code",
   "execution_count": null,
   "id": "f9f6925b",
   "metadata": {},
   "outputs": [],
   "source": [
    "my_dict['XmlInformacoesTrimestraisFinanceiras']['DadosITR']['Formulario']['DfConsolidadas']"
   ]
  },
  {
   "cell_type": "code",
   "execution_count": null,
   "id": "c5590873",
   "metadata": {},
   "outputs": [],
   "source": [
    "my_dict['XmlInformacoesTrimestraisFinanceiras']['DadosITR']['Formulario']['DfConsolidadas'].keys()"
   ]
  },
  {
   "attachments": {},
   "cell_type": "markdown",
   "id": "23642137",
   "metadata": {},
   "source": [
    "#### Balanço Patrimonial Ativo"
   ]
  },
  {
   "cell_type": "code",
   "execution_count": null,
   "id": "bf953733",
   "metadata": {},
   "outputs": [],
   "source": [
    "doc = \"BalancoPatrimonialAtivo\""
   ]
  },
  {
   "cell_type": "code",
   "execution_count": null,
   "id": "617f1e9f",
   "metadata": {},
   "outputs": [],
   "source": [
    "my_dict['XmlInformacoesTrimestraisFinanceiras']['DadosITR']['Formulario']['DfConsolidadas'][doc]"
   ]
  },
  {
   "cell_type": "code",
   "execution_count": null,
   "id": "eb9a2e13",
   "metadata": {},
   "outputs": [],
   "source": [
    "df_bpa = pd.DataFrame()\n",
    "for row in my_dict['XmlInformacoesTrimestraisFinanceiras']['DadosITR']['Formulario']['DfConsolidadas'][doc]['Conta']:\n",
    "    df_bpa = pd.concat([df_bpa, pd.DataFrame([row])])"
   ]
  },
  {
   "cell_type": "code",
   "execution_count": null,
   "id": "e459d8a1",
   "metadata": {},
   "outputs": [],
   "source": [
    "df_bpa"
   ]
  },
  {
   "attachments": {},
   "cell_type": "markdown",
   "id": "471f2840",
   "metadata": {},
   "source": [
    "#### Balanço Patrimonial Passivo"
   ]
  },
  {
   "cell_type": "code",
   "execution_count": null,
   "id": "9a67c4d4",
   "metadata": {},
   "outputs": [],
   "source": [
    "doc = \"BalancoPatrimonialPassivo\""
   ]
  },
  {
   "cell_type": "code",
   "execution_count": null,
   "id": "704e218a",
   "metadata": {},
   "outputs": [],
   "source": [
    "my_dict['XmlInformacoesTrimestraisFinanceiras']['DadosITR']['Formulario']['DfConsolidadas'][doc]"
   ]
  },
  {
   "cell_type": "code",
   "execution_count": null,
   "id": "d2250307",
   "metadata": {},
   "outputs": [],
   "source": [
    "df_bpp = pd.DataFrame()\n",
    "for row in my_dict['XmlInformacoesTrimestraisFinanceiras']['DadosITR']['Formulario']['DfConsolidadas'][doc]['Conta']:\n",
    "    df_bpp = pd.concat([df_bpp, pd.DataFrame([row])])"
   ]
  },
  {
   "cell_type": "code",
   "execution_count": null,
   "id": "35d6c20e",
   "metadata": {},
   "outputs": [],
   "source": [
    "df_bpp"
   ]
  }
 ],
 "metadata": {
  "kernelspec": {
   "display_name": "Python 3",
   "language": "python",
   "name": "python3"
  },
  "language_info": {
   "codemirror_mode": {
    "name": "ipython",
    "version": 3
   },
   "file_extension": ".py",
   "mimetype": "text/x-python",
   "name": "python",
   "nbconvert_exporter": "python",
   "pygments_lexer": "ipython3",
   "version": "3.11.3"
  }
 },
 "nbformat": 4,
 "nbformat_minor": 5
}
